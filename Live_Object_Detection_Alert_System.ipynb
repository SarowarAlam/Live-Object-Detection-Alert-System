import cv2
from ultralytics import YOLO

def live_object_detection(model):
    """Run live object detection on a webcam feed."""
    cap = cv2.VideoCapture(0)  # Open the default webcam (change 0 if using an external camera)

    while cap.isOpened():
        ret, frame = cap.read()
        if not ret:
            print("Failed to capture frame. Exiting...")
            break

        # Perform object detection
        results = model(frame)

        # Process detections
        for result in results:
            for box in result.boxes:
                x1, y1, x2, y2 = map(int, box.xyxy[0])  # Bounding box coordinates
                confidence = box.conf[0]  # Confidence score
                class_id = int(box.cls[0])  # Class ID
                label = model.names[class_id]  # Class label (e.g., "human" or "animal")

                # Draw bounding box and label on the frame
                cv2.rectangle(frame, (x1, y1), (x2, y2), (0, 255, 0), 2)
                cv2.putText(frame, f"{label} {confidence:.2f}", (x1, y1 - 10), cv2.FONT_HERSHEY_SIMPLEX, 0.5, (0, 255, 0), 2)

        # Display the video feed with detections
        cv2.imshow("Live Object Detection", frame)

        # Exit on pressing 'q'
        if cv2.waitKey(1) & 0xFF == ord('q'):
            break

    cap.release()
    cv2.destroyAllWindows()

# Load the trained model
model = YOLO("C:\\Users\\sarow\\OneDrive\\Desktop\\projects\\Live_Object_Detection_Alert_System\\run\\train\\object_detection_model\\weights\\best.pt")

# Perform live object detection
live_object_detection(model)
