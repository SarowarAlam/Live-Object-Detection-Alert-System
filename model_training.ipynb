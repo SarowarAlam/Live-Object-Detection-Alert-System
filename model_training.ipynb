!pip install ultralytics

import os
import cv2
import numpy as np
from ultralytics import YOLO
import smtplib
from email.mime.text import MIMEText
from email.mime.multipart import MIMEMultipart

data_yaml_path = "/content/drive/MyDrive/projects/dataset/data.yaml"
train_dir = "/content/drive/MyDrive/projects/dataset/images/train"
val_dir = "/content/drive/MyDrive/projects/dataset/images/val"

print("Data.yaml exists:", os.path.exists(data_yaml_path))
print("Train directory exists:", os.path.exists(train_dir))
print("Validation directory exists:", os.path.exists(val_dir))

# Step 1: Training the YOLO Model
def train_model(data_yaml_path, epochs=1, img_size=640):
    """Train the YOLO model."""
    if not os.path.exists(data_yaml_path):
        raise FileNotFoundError(f"data.yaml file not found at {data_yaml_path}")

    model = YOLO("yolov8n.pt")  # Load YOLOv8 pre-trained weights

    # Ensure the project directory exists
    project_dir = "runs/train"
    os.makedirs(project_dir, exist_ok=True)

    model.train(
        data=data_yaml_path,      # Path to the data.yaml file
        epochs=epochs,       # Number of epochs
        imgsz=img_size,      # Image size for training
        batch=32,
        #device="cpu",  # Use CPU instead of GPU                       # Batch size
        name="object_detection_model",  # Experiment name
        project=project_dir  # Save results in this directory
    )
    return model

# Step 2: Sending Email Alerts
def send_email_alert(object_name):
    """Send an email alert when an object is detected."""
    sender_email = "youremail@example.com"  # Replace with your email
    receiver_email = "receiver@example.com"  # Replace with the recipient's email
    password = "yourpassword"  # Replace with your email password

    subject = "Alert: Object Detected in Restricted Area"
    body = f"A {object_name} has been detected in the restricted area. Please check the live feed."

    # Create the email message
    message = MIMEMultipart()
    message["Subject"] = subject
    message["From"] = sender_email
    message["To"] = receiver_email

    message.attach(MIMEText(body, "plain"))

    try:
        # Send the email
        with smtplib.SMTP("smtp.gmail.com", 587) as server:
            server.starttls()
            server.login(sender_email, password)
            server.sendmail(sender_email, receiver_email, message.as_string())
        print("Alert email sent successfully!")
    except Exception as e:
        print(f"Failed to send email: {e}")

# Step 3: Real-Time Object Detection
def live_object_detection(model):
    """Run live object detection on a webcam feed."""
    cap = cv2.VideoCapture(0)  # Open webcam (use 0 for the default webcam)

    while cap.isOpened():
        ret, frame = cap.read()
        if not ret:
            break

        # Perform object detection
        results = model(frame)

        # Process detections
        for result in results:
            for box in result.boxes:
                x1, y1, x2, y2 = map(int, box.xyxy[0])  # Bounding box coordinates
                confidence = box.conf[0]  # Confidence score
                class_id = int(box.cls[0])  # Class ID
                label = model.names[class_id]  # Class label (e.g., "human" or "animal")

                # Draw bounding box and label on the frame
                cv2.rectangle(frame, (x1, y1), (x2, y2), (0, 255, 0), 2)
                cv2.putText(frame, f"{label} {confidence:.2f}", (x1, y1 - 10), cv2.FONT_HERSHEY_SIMPLEX, 0.5, (0, 255, 0), 2)

                # Send alert if the detected object is "human" or "animal"
                if label in ["human", "animal"]:
                    send_email_alert(label)

        # Display the video feed
        cv2.imshow("Live Object Detection", frame)

        # Exit on pressing 'q'
        if cv2.waitKey(1) & 0xFF == ord('q'):
            break

    cap.release()
    cv2.destroyAllWindows()

if __name__ == "__main__":
    # Train the model (use your dataset's data.yaml path)
    data_yaml_path = "/content/drive/MyDrive/projects/dataset/data.yaml"  # Replace with the actual path to your data.yaml file
    trained_model = train_model(data_yaml_path, epochs=1, img_size=640)

    # Perform live object detection
    live_object_detection(trained_model)
